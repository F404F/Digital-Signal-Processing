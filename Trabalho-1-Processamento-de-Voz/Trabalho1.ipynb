{
  "nbformat": 4,
  "nbformat_minor": 0,
  "metadata": {
    "colab": {
      "name": "Untitled0.ipynb",
      "provenance": [],
      "authorship_tag": "ABX9TyNibh0dPuzZy5+9FDmF4xLc",
      "include_colab_link": true
    },
    "kernelspec": {
      "name": "python3",
      "display_name": "Python 3"
    },
    "accelerator": "GPU"
  },
  "cells": [
    {
      "cell_type": "markdown",
      "metadata": {
        "id": "view-in-github",
        "colab_type": "text"
      },
      "source": [
        "<a href=\"https://colab.research.google.com/github/F404F/Digital-Signal-Processing/blob/main/Trabalho-1-Processamento-de-Voz/Trabalho1.ipynb\" target=\"_parent\"><img src=\"https://colab.research.google.com/assets/colab-badge.svg\" alt=\"Open In Colab\"/></a>"
      ]
    },
    {
      "cell_type": "markdown",
      "metadata": {
        "id": "YPn8JRX_aP13"
      },
      "source": [
        "#EEL7522-06202 (20201) - Processamento Digital de Sinais\n",
        "\n",
        "##Felipe Castro de Freitas - 14209569\n",
        "\n",
        "###Projeto Processamento de Voz\n",
        "\n",
        "**Este projeto individual visa estudar algoritmos de processamento de sinais e aplicá-los em filtragem e reconhecimento de voz.**\n",
        "\n"
      ]
    },
    {
      "cell_type": "markdown",
      "metadata": {
        "id": "ZLR4hIe1ba6O"
      },
      "source": [
        "###Importação das bibliotecas necessárias"
      ]
    },
    {
      "cell_type": "code",
      "metadata": {
        "id": "oI4w5rIVbZiu"
      },
      "source": [
        "from io import BytesIO\n",
        "import tempfile\n",
        "import requests\n",
        "import numpy as np\n",
        "import scipy.signal as sg\n",
        "import pydub\n",
        "import matplotlib.pyplot as plt\n",
        "from IPython.display import Audio, display\n",
        "%matplotlib inline"
      ],
      "execution_count": null,
      "outputs": []
    },
    {
      "cell_type": "markdown",
      "metadata": {
        "id": "BUZmtd_CbnfW"
      },
      "source": [
        "###Conversão MP3 -> WAV para uso como array"
      ]
    },
    {
      "cell_type": "code",
      "metadata": {
        "id": "OcoaUp7Ab1d2"
      },
      "source": [
        "def speak(data):\n",
        "    # We convert the mp3 bytes to wav.\n",
        "    audio = pydub.AudioSegment.from_mp3(BytesIO(data))\n",
        "    with tempfile.TemporaryFile() as fn:\n",
        "        wavef = audio.export(fn, format='wav')\n",
        "        wavef.seek(0)\n",
        "        wave = wavef.read()\n",
        "    # We get the raw data by removing the 24 first\n",
        "    # bytes of the header.\n",
        "    x = np.frombuffer(wave, np.int16)[24:] / 2.**15\n",
        "    return x, audio.frame_rate"
      ],
      "execution_count": null,
      "outputs": []
    },
    {
      "cell_type": "markdown",
      "metadata": {
        "id": "m7c_Uiu8j-Me"
      },
      "source": [
        "###Função para Reprodução do arquivo"
      ]
    },
    {
      "cell_type": "code",
      "metadata": {
        "id": "zee5JPs1kpQA"
      },
      "source": [
        "def play(x, fr, autoplay=False):\n",
        "    display(Audio(x, rate=fr, autoplay=autoplay))"
      ],
      "execution_count": null,
      "outputs": []
    },
    {
      "cell_type": "code",
      "metadata": {
        "id": "eybOiY6WkyA_"
      },
      "source": [
        "url = ('https://github.com/ipython-books/'\n",
        "       'cookbook-2nd-data/blob/master/'\n",
        "       'voice.mp3?raw=true')\n",
        "voice = requests.get(url).content\n",
        "x, fr = speak(voice)\n",
        "play(x, fr)\n",
        "fig, ax = plt.subplots(1, 1, figsize=(8, 4))\n",
        "t = np.linspace(0., len(x) / fr, len(x))\n",
        "ax.plot(t, x, lw=1)\n",
        "\n"
      ],
      "execution_count": null,
      "outputs": []
    },
    {
      "cell_type": "markdown",
      "metadata": {
        "id": "kirZuqCqa0XH"
      },
      "source": [
        "1) Filtragem com esquecimento usando α=0,98,0,5,−0,98,−0,5. Salve cada resultado do processamento em arquivos no formato wav usando o wavwrite. (Help wavwrite) do Scilab. Usando o Audacity, ouça os resultados e comente no relatório. Com o Audacity observe os gráficos de espectros dos sinais e os inclua no relatório. Inclua o programa fonte no relatório. Teste com outros valores de α e comente os resultados no relatório."
      ]
    },
    {
      "cell_type": "code",
      "metadata": {
        "id": "ox847Nv6bI1P"
      },
      "source": [
        ""
      ],
      "execution_count": null,
      "outputs": []
    },
    {
      "cell_type": "markdown",
      "metadata": {
        "id": "Cw9jeFHCbE9f"
      },
      "source": [
        "2) Filtragem de média móvel usando M = 50, 100, 1000. Salve cada resultado do processamento em arquivos no formato wav usando o wavwrite. (Help wavwrite) do Scilab. Usando o Audacity, ouça os resultados e comente o que observou no relatório.  Com o Audacity observe os gráficos de espectros dos sinais e os inclua no relatório. Inclua o programa fonte no relatório. Teste com outros valores de M e comente os resultados no relatório.\n"
      ]
    },
    {
      "cell_type": "code",
      "metadata": {
        "id": "U8pBs0QYbKkB"
      },
      "source": [
        ""
      ],
      "execution_count": null,
      "outputs": []
    },
    {
      "cell_type": "markdown",
      "metadata": {
        "id": "EzvoS4embFF_"
      },
      "source": [
        "3) Correlação de sinais.  Segmente um trecho do sinal (aproximadamente 1 segundos) do meio do sinal, entre  2 e 3 segundos do sinal de voz. Calcule a função correlação entre o segmento com o sinal de voz e apresente o gráfico da correlação no relatório. Comente  no relatório como você poderia usar esta função de correlação para identificar o locutor. Comente no relatório como estimar qual a palavra que foi falada no segmento dentro das palavras ditas na frase toda do áudio. Comente no relatório  se usar algum filtro antes da correlação poderia ajudar no processamento ? \n",
        "\n",
        "Teste esta hipótese com os filtros desenvolvidos e comente no relatório os resultados. Inclua o programa fonte no relatório."
      ]
    },
    {
      "cell_type": "code",
      "metadata": {
        "id": "pAaiFPu-aFNS"
      },
      "source": [
        ""
      ],
      "execution_count": null,
      "outputs": []
    }
  ]
}